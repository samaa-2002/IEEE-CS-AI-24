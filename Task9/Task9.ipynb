{
 "cells": [
  {
   "cell_type": "code",
   "execution_count": 10,
   "id": "28afdb8f-ed4c-4275-b1ed-f979ea4ec789",
   "metadata": {},
   "outputs": [],
   "source": [
    "import numpy as np"
   ]
  },
  {
   "cell_type": "markdown",
   "id": "8aac29df-8ece-46c3-9528-250d7ff13f6a",
   "metadata": {},
   "source": [
    "##first problem"
   ]
  },
  {
   "cell_type": "code",
   "execution_count": 17,
   "id": "dd36dae6-a7c6-4ab5-af79-6b75d68fe76d",
   "metadata": {},
   "outputs": [
    {
     "name": "stdout",
     "output_type": "stream",
     "text": [
      "[[9. 0. 0.]\n",
      " [0. 9. 0.]\n",
      " [0. 0. 9.]]\n"
     ]
    }
   ],
   "source": [
    "np1=np.identity(3)\n",
    "print(np1*9)"
   ]
  },
  {
   "cell_type": "markdown",
   "id": "5ad83541-70c2-40a8-890b-f27e00da3fe5",
   "metadata": {},
   "source": [
    "##second problem"
   ]
  },
  {
   "cell_type": "code",
   "execution_count": 40,
   "id": "1b5e3b3f-420e-4457-bb0b-24ec1eaa5b52",
   "metadata": {},
   "outputs": [
    {
     "name": "stdout",
     "output_type": "stream",
     "text": [
      "[14 16 18 20]\n"
     ]
    }
   ],
   "source": [
    "np2=np.arange(33)\n",
    "np2=np2[2:33:2]\n",
    "np2=np2.reshape(4,4)\n",
    "standerd_deviation=np.std(np2)\n",
    "mean=np.mean(np2)\n",
    "filtered=(np2>mean-0.5*standerd_deviation)&(np2<mean+0.5*standerd_deviation)\n",
    "print(np2[filtered])\n"
   ]
  },
  {
   "cell_type": "markdown",
   "id": "46121e2b-6023-42ad-8bb6-20a41e5f4857",
   "metadata": {},
   "source": [
    "##Third problem"
   ]
  },
  {
   "cell_type": "code",
   "execution_count": 43,
   "id": "96ff15f7-de5a-41b3-88b7-7ca1ccd3c826",
   "metadata": {},
   "outputs": [
    {
     "name": "stdout",
     "output_type": "stream",
     "text": [
      "[[0 0 0 0 0 0 0 0 0]\n",
      " [0 0 0 0 0 0 0 0 0]\n",
      " [0 0 0 0 0 0 0 0 0]\n",
      " [0 0 0 0 0 0 0 0 0]\n",
      " [0 0 0 0 0 0 0 0 0]\n",
      " [0 0 0 0 0 0 0 0 0]\n",
      " [0 0 0 0 0 0 0 0 0]\n",
      " [0 0 0 0 0 0 0 0 0]\n",
      " [0 0 0 0 0 0 0 0 0]]\n"
     ]
    }
   ],
   "source": [
    "np3=np.zeros((9,9),dtype='int32')\n",
    "print(np3)"
   ]
  },
  {
   "cell_type": "markdown",
   "id": "d4a5c993-acc3-4bc5-b3e0-7d515d0f0f93",
   "metadata": {},
   "source": [
    "##fouth problem"
   ]
  },
  {
   "cell_type": "code",
   "execution_count": 56,
   "id": "18dd0393-f098-4f8a-9a20-9fbb9f277dd6",
   "metadata": {},
   "outputs": [
    {
     "name": "stdin",
     "output_type": "stream",
     "text": [
      "Enter an interger number 2\n"
     ]
    },
    {
     "name": "stdout",
     "output_type": "stream",
     "text": [
      "[[1 2]\n",
      " [1 2]]\n"
     ]
    }
   ],
   "source": [
    "while True:\n",
    "    try:\n",
    "        n=int(input(\"Enter an interger number\"))\n",
    "        break\n",
    "    except ValueError:\n",
    "        print(\"please enter valid input\")\n",
    "    \n",
    "first_array=np.arange(1,n+1)\n",
    "np4 = np.tile(first_array, (n, 1))\n",
    "print(np4)\n"
   ]
  },
  {
   "cell_type": "markdown",
   "id": "bf9a170e-bdaf-472a-a89c-eb21818fd23e",
   "metadata": {},
   "source": [
    "##fifth problem(the submitted code doesnot use numpy cause it gives runtime error on codeforces)"
   ]
  },
  {
   "cell_type": "code",
   "execution_count": null,
   "id": "9ce9aa07-6528-4091-ba24-0570ddab07d2",
   "metadata": {},
   "outputs": [],
   "source": [
    "n = int(input())\n",
    "cards = list(map(int, input().split()))\n",
    "\n",
    "left = 0\n",
    "right = n - 1\n",
    "\n",
    "sereja_score = 0\n",
    "dima_score = 0\n",
    "\n",
    "while left <= right:\n",
    "    if cards[left] > cards[right]:\n",
    "        sereja_score += cards[left]\n",
    "        left += 1\n",
    "    else:\n",
    "        sereja_score += cards[right]\n",
    "        right -= 1\n",
    "\n",
    "    if left <= right:\n",
    "        if cards[left] > cards[right]:\n",
    "            dima_score += cards[left]\n",
    "            left += 1\n",
    "        else:\n",
    "            dima_score += cards[right]\n",
    "            right -= 1\n",
    "\n",
    "print(sereja_score, dima_score)\n",
    "\n",
    "             "
   ]
  },
  {
   "cell_type": "markdown",
   "id": "28838095-447d-47e4-9ef2-8663b3a62f98",
   "metadata": {},
   "source": [
    "##fifth problem using numpy(not accepted in  numpy)"
   ]
  },
  {
   "cell_type": "code",
   "execution_count": null,
   "id": "61ae8cf9-8926-465c-bd4a-b892a9b4e4b2",
   "metadata": {},
   "outputs": [],
   "source": [
    "import numpy as np\n",
    "\n",
    "try:\n",
    "    n = int(input())\n",
    "    cards = np.array(list(map(int, input().split())))\n",
    "\n",
    "    sorted_cards = np.sort(cards)\n",
    "    sereja_cards = sorted_cards[::-2]\n",
    "\n",
    "    sereja_sum = np.sum(sereja_cards)\n",
    "    dima_sum = np.sum(cards) - sereja_sum\n",
    "\n",
    "    print(sereja_sum, dima_sum)\n",
    "\n",
    "except Exception as e:\n",
    "    print(\"Error:\", e)\n"
   ]
  },
  {
   "cell_type": "markdown",
   "id": "63fd8c26-0f8d-4d0a-960f-c08bfd4680fa",
   "metadata": {},
   "source": [
    "##The sixth problem"
   ]
  },
  {
   "cell_type": "code",
   "execution_count": 59,
   "id": "86b71e38-9cc3-4557-8d8e-63ce5be6fc41",
   "metadata": {},
   "outputs": [
    {
     "name": "stdin",
     "output_type": "stream",
     "text": [
      " 2 2\n",
      " C M\n",
      " Y Y\n"
     ]
    },
    {
     "name": "stdout",
     "output_type": "stream",
     "text": [
      "#Color\n"
     ]
    }
   ],
   "source": [
    "# Read input\n",
    "n, m = map(int, input().split())\n",
    " \n",
    "# Read photo pixels\n",
    "photo = [input().split() for _ in range(n)]\n",
    " \n",
    "# Check if the photo is colored\n",
    "is_colored = False\n",
    "for row in photo:\n",
    "    if 'C' in row or 'M' in row or 'Y' in row:\n",
    "        is_colored = True\n",
    "        break\n",
    " \n",
    "# Output result\n",
    "if is_colored:\n",
    "    print(\"#Color\")\n",
    "else:\n",
    "    print(\"#Black&White\")"
   ]
  },
  {
   "cell_type": "code",
   "execution_count": null,
   "id": "f6915a25-26d6-41bc-a21c-b82ec5871a71",
   "metadata": {},
   "outputs": [],
   "source": []
  }
 ],
 "metadata": {
  "kernelspec": {
   "display_name": "Python 3 (ipykernel)",
   "language": "python",
   "name": "python3"
  },
  "language_info": {
   "codemirror_mode": {
    "name": "ipython",
    "version": 3
   },
   "file_extension": ".py",
   "mimetype": "text/x-python",
   "name": "python",
   "nbconvert_exporter": "python",
   "pygments_lexer": "ipython3",
   "version": "3.11.7"
  }
 },
 "nbformat": 4,
 "nbformat_minor": 5
}
